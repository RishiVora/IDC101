{
  "nbformat": 4,
  "nbformat_minor": 0,
  "metadata": {
    "colab": {
      "name": "$aa",
      "provenance": [],
      "collapsed_sections": []
    },
    "kernelspec": {
      "name": "python3",
      "display_name": "Python 3"
    },
    "language_info": {
      "name": "python"
    }
  },
  "cells": [
    {
      "cell_type": "code",
      "execution_count": null,
      "metadata": {
        "id": "2gyE_hXS-hMl",
        "colab": {
          "base_uri": "https://localhost:8080/"
        },
        "outputId": "a80a9592-c07b-4302-cc20-7d77d6ff32c5"
      },
      "outputs": [
        {
          "output_type": "stream",
          "name": "stdout",
          "text": [
            "Welcome to Introduction to Computer course\n"
          ]
        }
      ],
      "source": [
        "print('Welcome to Introduction to Computer course')"
      ]
    }
  ]
}
